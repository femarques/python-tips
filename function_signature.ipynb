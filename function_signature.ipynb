{
 "cells": [
  {
   "cell_type": "markdown",
   "id": "5ead384e",
   "metadata": {},
   "source": [
    "# You're probably declaring your python functions the wrong way\n",
    "\n",
    "A function's signature is the definition of a function input and output, its arguments names and types, if it returns something, and what type is it. Python lets you make several kinds of signatures, from the most generic, to the most specific. In the next sections, we will discuss those signatures, focusing on:\n",
    "\n",
    "- Code legibility;\n",
    "- IDE's code inspection features;\n",
    "- Function reusability;\n",
    "- Effort to change/maintain code."
   ]
  },
  {
   "cell_type": "markdown",
   "id": "8bee00ea",
   "metadata": {},
   "source": [
    "## 1. Generic signature - implicit generic arguments, without return type\n",
    "\n",
    "```python\n",
    "def to_string(*args, **kwargs):\n",
    "    ...\n",
    "```\n",
    "\n",
    "This kind of signature doesn't give us any clue about what arguments the function is expecting, or what it returns. It's the most generic function we can write because we're not limiting anything. We should only write functions like this if we manage to accept any kind of argument, and make sure it will always execute properly - and this can get pretty hard.\n",
    "\n",
    "Functions like this can be called with both positional and named arguments, where `args` will be a `tuple` containing positional arguments with preserved order, and `kwargs` will be a `dict` containing named arguments and their values."
   ]
  },
  {
   "cell_type": "code",
   "execution_count": 1,
   "id": "091b1912",
   "metadata": {},
   "outputs": [
    {
     "name": "stdout",
     "output_type": "stream",
     "text": [
      "args = (1, True)\n",
      "kwargs = {'number': 4}\n"
     ]
    }
   ],
   "source": [
    "def to_string(*args, **kwargs):\n",
    "    print(\"args =\", args)\n",
    "    print(\"kwargs =\", kwargs)\n",
    "\n",
    "to_string(1, True, number=4)"
   ]
  },
  {
   "cell_type": "markdown",
   "id": "2fc18388",
   "metadata": {},
   "source": [
    "Despite all generalisation we can get when declaring functions like this, unfortunately we often see implementations like below, where the function has generic signature but uses specific arguments to get the job done:\n",
    "\n",
    "```python\n",
    "def divide_by(*args, **kwargs):\n",
    "    return kwargs.get(\"number\") / kwargs.get('by')\n",
    "```\n",
    "\n",
    "- **Code legibility:** Low. We only know that there's a function named `divide_by` but we don't know how to call it or what it returns. We need to read its implementation.\n",
    "- **IDE's code inspection features:**\n",
    "    - Autocomplete arguments: `No`\n",
    "    - Missing/Unexpected arguments checking: `No`\n",
    "    - Arguments typechecking: `No`\n",
    "- **Function reusability:** `Low` Every time we want to reuse this function we have to remember how to call it and what it returns by reading its implementation.\n",
    "- **Effort to change/maintain code:** `High` If one accidentally or intentionally changes the argument name from `number` to `quantity`, we'll have to go through all places where `divide_by` is called and correct the argument name too. IDE won't highlight `number` as an unexpected argument.\n",
    "\n",
    "Copy and paste the snippet below on your favorite IDE and check its autocompletion/highlighting features."
   ]
  },
  {
   "cell_type": "code",
   "execution_count": 2,
   "id": "47267980",
   "metadata": {},
   "outputs": [
    {
     "name": "stdout",
     "output_type": "stream",
     "text": [
      "TypeError(\"unsupported operand type(s) for /: 'NoneType' and 'NoneType'\")\n",
      "TypeError(\"unsupported operand type(s) for /: 'NoneType' and 'NoneType'\")\n",
      "TypeError(\"unsupported operand type(s) for /: 'NoneType' and 'NoneType'\")\n",
      "TypeError(\"unsupported operand type(s) for /: 'int' and 'str'\")\n",
      "1.25\n"
     ]
    }
   ],
   "source": [
    "def divide_by(*args, **kwargs):\n",
    "    return kwargs.get(\"number\") / kwargs.get('by')\n",
    "\n",
    "def divide_by_safe(*args, **kwargs):\n",
    "    try:\n",
    "        print(divide_by(*args, **kwargs))\n",
    "    except (TypeError, ValueError) as err:\n",
    "        print(repr(err))\n",
    "\n",
    "\n",
    "divide_by_safe(\"Hello\")\n",
    "divide_by_safe(quantity=3)\n",
    "divide_by_safe(5, 4)\n",
    "divide_by_safe(number=5, by=\"a\")\n",
    "divide_by_safe(number=5, by=4)"
   ]
  },
  {
   "cell_type": "markdown",
   "id": "87e48414",
   "metadata": {},
   "source": [
    "### 1.1 Generic signature - only positional or named arguments\n",
    "\n",
    "The first limit we can impose to these functions is to specify whether it will take only positional or named arguments. As it explicitly limits how function can be called, unexpected arguments are caught by IDE's code inspection, and it highlights them with `WARNING` level. However, it doesn't improve any of the points listed above.\n",
    "\n",
    "```python\n",
    "# positional only\n",
    "def to_string(*args):\n",
    "    ...\n",
    "```\n",
    "\n",
    "```python\n",
    "# named only\n",
    "def to_string(**kwargs):\n",
    "    ...\n",
    "```\n",
    "\n",
    "Copy and paste the snippets below on your favorite IDE and check its autocompletion/highlighting features."
   ]
  },
  {
   "cell_type": "code",
   "execution_count": 3,
   "id": "4f57ad01",
   "metadata": {},
   "outputs": [
    {
     "name": "stdout",
     "output_type": "stream",
     "text": [
      "args = (1, True, 3.4, ['a'], 'b')\n",
      "TypeError(\"to_string() got an unexpected keyword argument 'named'\")\n"
     ]
    }
   ],
   "source": [
    "# only positional\n",
    "def to_string(*args):\n",
    "    print(\"args =\", args)\n",
    "\n",
    "to_string(1, True, 3.4, [\"a\"], \"b\")\n",
    "try:\n",
    "    to_string(1, True, 3.4, [\"a\"], \"b\", named=True)  # highlights named=True, and raises TypeError\n",
    "except TypeError as err:\n",
    "    print(repr(err))"
   ]
  },
  {
   "cell_type": "code",
   "execution_count": 4,
   "id": "cfcea852",
   "metadata": {},
   "outputs": [
    {
     "name": "stdout",
     "output_type": "stream",
     "text": [
      "kwargs = {'text': 'Ipsum lorum', 'number': 3, 'is_test': False}\n",
      "TypeError('to_string() takes 0 positional arguments but 1 was given')\n"
     ]
    }
   ],
   "source": [
    "# only named\n",
    "def to_string(**kwargs):\n",
    "    print(\"kwargs =\", kwargs)\n",
    "\n",
    "to_string(text=\"Ipsum lorum\", number=3, is_test=False)\n",
    "try:\n",
    "    to_string(True, text=\"Ipsum lorum\", number=3, is_test=False) # highlights True, and raises TypeError\n",
    "except TypeError as err:\n",
    "    print(repr(err))"
   ]
  },
  {
   "cell_type": "markdown",
   "id": "9f0c249e",
   "metadata": {},
   "source": [
    "## 2. Specific signature - explicit named arguments\n",
    "\n",
    "The first improvement we apply to our function is to explicitly name the arguments it will receive. It helps not only the reader, but IDE can now autocomplete and check missing/unexpected arguments.\n",
    "\n",
    "```python\n",
    "def divide_by(number, by):\n",
    "    ...\n",
    "```\n",
    "\n",
    "- **Code legibility:** Medium. Now we know that `divide_by` receives `number` and `by` arguments, but we don't know what is their type or what the function returns.\n",
    "- **IDE's code inspection features:**\n",
    "    - Autocomplete arguments: `Yes`\n",
    "    - Missing/Unexpected arguments checking: `Yes`\n",
    "    - Arguments typechecking: `No`\n",
    "- **Function reusability:** `Medium`. To reuse it we will have to read the implementation to infer the arguments types.\n",
    "- **Effort to change/maintain code:** High. If one accidentally or intentionally changes the argument name from `number` to `quantity`, we'll have to go through all places where `divide_by` is called and correct the argument name too. IDE won't highlight `number` as an unexpected argument."
   ]
  },
  {
   "cell_type": "markdown",
   "id": "5670d459",
   "metadata": {},
   "source": [
    "### 2.1 Specific signature - typed arguments and return value\n",
    "\n",
    "```python\n",
    "def to_string(number: int) -> str:\n",
    "    ...\n",
    "```"
   ]
  },
  {
   "cell_type": "markdown",
   "id": "7a7a8b0d",
   "metadata": {},
   "source": [
    "---\n",
    "##  Closing thoughts\n",
    "\n",
    "Characteristics of a well-defined function:\n",
    "\n",
    "- Function's name should be a verb, or represent an action: this improves code legibility;\n",
    "- Function's arguments must have explicit types: this makes Pycharm highlight if you are passing the wrong type;\n",
    "- Function's arguments must have explicit names: avoid using arguments names like `aux`, `data`, `response`. You must be able to tell what is inside the variable only by reading its name;\n",
    "- Function's arguments must have explicit content: avoid passing dictionaries as arguments because Pycharm can't autocomplete the content, or typecheck values, and afterwards the code maintainer will never know what's inside that dictionary;\n",
    "- Function must have explicit return type;\n",
    "- Function's return value must have explicit content: avoid returning dictionaries because Pycharm can't autocomplete the content, or typecheck values, and afterwards the code maintainer will never know what's inside the returned variable."
   ]
  }
 ],
 "metadata": {
  "kernelspec": {
   "display_name": "Python 3 (ipykernel)",
   "language": "python",
   "name": "python3"
  },
  "language_info": {
   "codemirror_mode": {
    "name": "ipython",
    "version": 3
   },
   "file_extension": ".py",
   "mimetype": "text/x-python",
   "name": "python",
   "nbconvert_exporter": "python",
   "pygments_lexer": "ipython3",
   "version": "3.8.5"
  }
 },
 "nbformat": 4,
 "nbformat_minor": 5
}