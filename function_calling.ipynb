{
 "cells": [
  {
   "cell_type": "markdown",
   "id": "5ead384e",
   "metadata": {},
   "source": [
    "# You're probably calling your python functions the wrong way\n",
    "\n",
    "There are 4 ways of calling python functions. In the next sections, we will discuss focusing on:\n",
    "\n",
    "- Code legibility - what are the arguments and their values;\n",
    "- IDE's arguments typechecking;\n",
    "- IDE's missing/unexpected arguments checking;\n",
    "- What happens if the order of arguments changes.\n",
    "- What happens if the name of arguments changes. \n"
   ]
  },
  {
   "cell_type": "markdown",
   "id": "db5488ff",
   "metadata": {},
   "source": [
    "## 1. Indirect positional arguments - unpacking iterable\n",
    "\n",
    "Copy and paste the following snippet into your favorite IDE, run the code inspection "
   ]
  },
  {
   "cell_type": "code",
   "execution_count": 19,
   "id": "7ca3f8d1",
   "metadata": {},
   "outputs": [
    {
     "name": "stdout",
     "output_type": "stream",
     "text": [
      "0.5\n",
      "TypeError(\"unsupported operand type(s) for /: 'int' and 'str'\")\n",
      "TypeError(\"divide_by() missing 1 required positional argument: 'by'\")\n",
      "2.0\n",
      "0.5\n"
     ]
    }
   ],
   "source": [
    "from typing import Union\n",
    "\n",
    "\n",
    "def divide_by(number: Union[int, float], by: Union[int, float]) -> float:\n",
    "    return number / by\n",
    "\n",
    "\n",
    "args = (1, 2)\n",
    "print(divide_by(*args))\n",
    "\n",
    "\n",
    "# Arguments typechecking\n",
    "args = (1, \"2\")  # no IDE highlighting\n",
    "try:\n",
    "    print(divide_by(*args))\n",
    "except TypeError as err:\n",
    "    print(repr(err))\n",
    "    \n",
    "    \n",
    "# Arguments requirement\n",
    "args = (1,)  # no IDE highlighting\n",
    "try:\n",
    "    print(divide_by(*args))\n",
    "except TypeError as err:\n",
    "    print(repr(err))\n",
    "\n",
    "\n",
    "# Change in arguments order\n",
    "def divide_by(by: Union[int, float], number: Union[int, float]) -> float:\n",
    "    return number / by\n",
    "    \n",
    "    \n",
    "args = (1, 2)\n",
    "print(divide_by(*args))  # Fails silently\n",
    "\n",
    "\n",
    "# Change in arguments name\n",
    "def divide_by(quantity: Union[int, float], by: Union[int, float]) -> float:\n",
    "    return quantity / by\n",
    "\n",
    "\n",
    "args = (1, 2)\n",
    "print(divide_by(*args))  # Still working\n"
   ]
  },
  {
   "cell_type": "markdown",
   "id": "101f1747",
   "metadata": {},
   "source": [
    "## 2. Direct positional arguments"
   ]
  },
  {
   "cell_type": "code",
   "execution_count": 15,
   "id": "9957e563",
   "metadata": {},
   "outputs": [
    {
     "name": "stdout",
     "output_type": "stream",
     "text": [
      "0.5\n",
      "TypeError(\"unsupported operand type(s) for /: 'int' and 'str'\")\n",
      "TypeError(\"divide_by() missing 1 required positional argument: 'by'\")\n",
      "2.0\n",
      "0.5\n"
     ]
    }
   ],
   "source": [
    "from typing import Union\n",
    "\n",
    "\n",
    "def divide_by(number: Union[int, float], by: Union[int, float]) -> float:\n",
    "    return number / by\n",
    "\n",
    "\n",
    "print(divide_by(1, 2))\n",
    "\n",
    "\n",
    "# Arguments typechecking\n",
    "try:\n",
    "    print(divide_by(1, \"2\"))  # IDE highlights wrong type\n",
    "except TypeError as err:\n",
    "    print(repr(err))\n",
    "    \n",
    "    \n",
    "# Arguments requirement\n",
    "try:\n",
    "    print(divide_by(1))  # IDE highlights missing argument\n",
    "except TypeError as err:\n",
    "    print(repr(err))\n",
    "\n",
    "\n",
    "# Change in arguments order\n",
    "def divide_by(by: Union[int, float], number: Union[int, float]) -> float:\n",
    "    return number / by\n",
    "\n",
    "\n",
    "print(divide_by(1, 2))  # Fails silently\n",
    "\n",
    "\n",
    "# Change in arguments name\n",
    "def divide_by(quantity: Union[int, float], by: Union[int, float]) -> float:\n",
    "    return quantity / by\n",
    "\n",
    "\n",
    "print(divide_by(1, 2))  # Still working\n"
   ]
  },
  {
   "cell_type": "markdown",
   "id": "37b88fde",
   "metadata": {},
   "source": [
    "## 3. Indirect named arguments - unpacking dictionary"
   ]
  },
  {
   "cell_type": "code",
   "execution_count": 16,
   "id": "a247fd6f",
   "metadata": {},
   "outputs": [
    {
     "name": "stdout",
     "output_type": "stream",
     "text": [
      "0.5\n",
      "TypeError(\"unsupported operand type(s) for /: 'int' and 'str'\")\n",
      "TypeError(\"divide_by() missing 1 required positional argument: 'by'\")\n",
      "0.5\n",
      "TypeError(\"divide_by() got an unexpected keyword argument 'number'\")\n"
     ]
    }
   ],
   "source": [
    "from typing import Union\n",
    "\n",
    "\n",
    "def divide_by(number: Union[int, float], by: Union[int, float]) -> float:\n",
    "    return number / by\n",
    "\n",
    "\n",
    "my_kwargs = {'number': 1, 'by': 2}\n",
    "print(divide_by(**my_kwargs))\n",
    "\n",
    "\n",
    "# Arguments typechecking\n",
    "my_kwargs = {'number': 1, 'by': \"2\"}\n",
    "try:\n",
    "    print(divide_by(**my_kwargs))  # no IDE highlighting\n",
    "except TypeError as err:\n",
    "    print(repr(err))\n",
    "    \n",
    "    \n",
    "# Arguments requirement\n",
    "my_kwargs = {'number': 1}\n",
    "try:\n",
    "    print(divide_by(**my_kwargs))  # no IDE highlighting\n",
    "except TypeError as err:\n",
    "    print(repr(err))\n",
    "\n",
    "\n",
    "# Change in arguments order\n",
    "def divide_by(by: Union[int, float], number: Union[int, float]) -> float:\n",
    "    return number / by\n",
    "\n",
    "\n",
    "my_kwargs = {'number': 1, 'by': 2}\n",
    "print(divide_by(**my_kwargs))  # Still working\n",
    "\n",
    "\n",
    "# Change in arguments name\n",
    "def divide_by(quantity: Union[int, float], by: Union[int, float]) -> float:\n",
    "    return quantity / by\n",
    "\n",
    "my_kwargs = {'number': 1, 'by': 2}\n",
    "try:\n",
    "    print(divide_by(**my_kwargs))  # Fails silently\n",
    "except TypeError as err:\n",
    "    print(repr(err))\n"
   ]
  },
  {
   "cell_type": "markdown",
   "id": "59c36e4d",
   "metadata": {},
   "source": [
    "## 4. Direct named arguments\n",
    "\n",
    "Pycharm points out 4 warnings with this code"
   ]
  },
  {
   "cell_type": "code",
   "execution_count": 18,
   "id": "1b587f3e",
   "metadata": {},
   "outputs": [
    {
     "name": "stdout",
     "output_type": "stream",
     "text": [
      "0.5\n",
      "TypeError(\"unsupported operand type(s) for /: 'int' and 'str'\")\n",
      "TypeError(\"divide_by() missing 1 required positional argument: 'by'\")\n",
      "0.5\n",
      "TypeError(\"divide_by() got an unexpected keyword argument 'number'\")\n"
     ]
    }
   ],
   "source": [
    "from typing import Union\n",
    "\n",
    "\n",
    "def divide_by(number: Union[int, float], by: Union[int, float]) -> float:\n",
    "    return number / by\n",
    "\n",
    "print(divide_by(number=1, by=2))\n",
    "\n",
    "\n",
    "# Arguments typechecking\n",
    "try:\n",
    "    print(divide_by(number=1, by=\"2\"))  # IDE highlights wrong type.\n",
    "except TypeError as err:\n",
    "    print(repr(err))\n",
    "    \n",
    "    \n",
    "# Arguments requirement\n",
    "try:\n",
    "    print(divide_by(number=1))  # IDE highlights missing required argument\n",
    "except TypeError as err:\n",
    "    print(repr(err))\n",
    "\n",
    "\n",
    "# Change in arguments order\n",
    "def divide_by(by: Union[int, float], number: Union[int, float]) -> float:\n",
    "    return number / by\n",
    "\n",
    "\n",
    "print(divide_by(number=1, by=2))  # Still working\n",
    "\n",
    "\n",
    "# Change in arguments name\n",
    "def divide_by(quantity: Union[int, float], by: Union[int, float]) -> float:\n",
    "    return quantity / by\n",
    "\n",
    "try:\n",
    "    print(divide_by(number=1, by=2))  # IDE highlights missing required argument, unexpected argument `number`\n",
    "except TypeError as err:\n",
    "    print(repr(err))\n"
   ]
  },
  {
   "cell_type": "markdown",
   "id": "32fe28db",
   "metadata": {},
   "source": [
    "## Closing thoughts"
   ]
  }
 ],
 "metadata": {
  "kernelspec": {
   "display_name": "Python 3 (ipykernel)",
   "language": "python",
   "name": "python3"
  },
  "language_info": {
   "codemirror_mode": {
    "name": "ipython",
    "version": 3
   },
   "file_extension": ".py",
   "mimetype": "text/x-python",
   "name": "python",
   "nbconvert_exporter": "python",
   "pygments_lexer": "ipython3",
   "version": "3.8.5"
  }
 },
 "nbformat": 4,
 "nbformat_minor": 5
}
